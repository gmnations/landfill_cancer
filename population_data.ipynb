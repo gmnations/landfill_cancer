{
 "cells": [
  {
   "cell_type": "code",
   "execution_count": 65,
   "metadata": {},
   "outputs": [],
   "source": [
    "import pandas as pd\n",
    "import numpy as np\n",
    "import csv\n",
    "import gmaps\n",
    "import requests\n",
    "import json\n",
    "\n",
    "from config import gkey"
   ]
  },
  {
   "cell_type": "code",
   "execution_count": 66,
   "metadata": {},
   "outputs": [
    {
     "name": "stdout",
     "output_type": "stream",
     "text": [
      "     state_name        county_name  county_FIPS  pop_2000_x  pop_2001_x  \\\n",
      "0       Alabama     Autauga County         1001       43872       44434   \n",
      "1       Alabama     Baldwin County         1003      141358      144988   \n",
      "2       Alabama     Barbour County         1005       29035       29223   \n",
      "3       Alabama        Bibb County         1007       19936       20942   \n",
      "4       Alabama      Blount County         1009       51181       51999   \n",
      "...         ...                ...          ...         ...         ...   \n",
      "3138    Wyoming  Sweetwater County        56037       37484       36566   \n",
      "3139    Wyoming       Teton County        56039       18367       18594   \n",
      "3140    Wyoming       Uinta County        56041       19662       19406   \n",
      "3141    Wyoming    Washakie County        56043        8257        8023   \n",
      "3142    Wyoming      Weston County        56045        6635        6472   \n",
      "\n",
      "      pop_2002_x  pop_2003_x  pop_2004_x  pop_2005_x  pop_2006_x  ...  \\\n",
      "0          45157       45762       46933       47870       49105  ...   \n",
      "1         148141      151707      156573      162564      168516  ...   \n",
      "2          29289       29480       29458       29452       29556  ...   \n",
      "3          20983       21037       21208       21375       21285  ...   \n",
      "4          52775       53726       54469       55035       55978  ...   \n",
      "...          ...         ...         ...         ...         ...  ...   \n",
      "3138       36831       36559       36854       37266       37948  ...   \n",
      "3139       18727       18890       19238       19343       19666  ...   \n",
      "3140       19567       19440       19419       19431       19631  ...   \n",
      "3141        7890        7822        7754        7763        7671  ...   \n",
      "3142        6538        6540        6553        6475        6568  ...   \n",
      "\n",
      "      pop_2010_y  pop_2011_y  pop_2012_y  pop_2013_y  pop_2014_y  pop_2015_y  \\\n",
      "0        4785448     4798834     4815564     4830460     4842481     4853160   \n",
      "1        4785448     4798834     4815564     4830460     4842481     4853160   \n",
      "2        4785448     4798834     4815564     4830460     4842481     4853160   \n",
      "3        4785448     4798834     4815564     4830460     4842481     4853160   \n",
      "4        4785448     4798834     4815564     4830460     4842481     4853160   \n",
      "...          ...         ...         ...         ...         ...         ...   \n",
      "3138      564483      567224      576270      582123      582548      585668   \n",
      "3139      564483      567224      576270      582123      582548      585668   \n",
      "3140      564483      567224      576270      582123      582548      585668   \n",
      "3141      564483      567224      576270      582123      582548      585668   \n",
      "3142      564483      567224      576270      582123      582548      585668   \n",
      "\n",
      "      pop_2016_y  pop_2017_y  pop_2018_y  pop_2019_y  \n",
      "0        4864745     4875120     4887871     4903185  \n",
      "1        4864745     4875120     4887871     4903185  \n",
      "2        4864745     4875120     4887871     4903185  \n",
      "3        4864745     4875120     4887871     4903185  \n",
      "4        4864745     4875120     4887871     4903185  \n",
      "...          ...         ...         ...         ...  \n",
      "3138      584290      578934      577737      578759  \n",
      "3139      584290      578934      577737      578759  \n",
      "3140      584290      578934      577737      578759  \n",
      "3141      584290      578934      577737      578759  \n",
      "3142      584290      578934      577737      578759  \n",
      "\n",
      "[3143 rows x 44 columns]\n"
     ]
    }
   ],
   "source": [
    "# Import the population.csv file as a DataFrame\n",
    "state_df = pd.read_csv(\"resources/state_populations_2000_to_2019.csv\")\n",
    "county_df = pd.read_csv(\"resources/county_populations_2000_to_2019.csv\")\n",
    "\n",
    "pop_data = pd.merge(county_df,state_df,\n",
    "                     on=\"state_name\",\n",
    "                     how=\"left\")\n",
    "# displaying result\n",
    "print(pop_data)"
   ]
  },
  {
   "cell_type": "code",
   "execution_count": 67,
   "metadata": {},
   "outputs": [
    {
     "data": {
      "text/plain": [
       "Index(['state_name', 'county_name', 'county_FIPS', 'pop_2000_x', 'pop_2001_x',\n",
       "       'pop_2002_x', 'pop_2003_x', 'pop_2004_x', 'pop_2005_x', 'pop_2006_x',\n",
       "       'pop_2007_x', 'pop_2008_x', 'pop_2009_x', 'pop_2010_x', 'pop_2011_x',\n",
       "       'pop_2012_x', 'pop_2013_x', 'pop_2014_x', 'pop_2015_x', 'pop_2016_x',\n",
       "       'pop_2017_x', 'pop_2018_x', 'pop_2019_x', 'state_FIPS', 'pop_2000_y',\n",
       "       'pop_2001_y', 'pop_2002_y', 'pop_2003_y', 'pop_2004_y', 'pop_2005_y',\n",
       "       'pop_2006_y', 'pop_2007_y', 'pop_2008_y', 'pop_2009_y', 'pop_2010_y',\n",
       "       'pop_2011_y', 'pop_2012_y', 'pop_2013_y', 'pop_2014_y', 'pop_2015_y',\n",
       "       'pop_2016_y', 'pop_2017_y', 'pop_2018_y', 'pop_2019_y'],\n",
       "      dtype='object')"
      ]
     },
     "execution_count": 67,
     "metadata": {},
     "output_type": "execute_result"
    }
   ],
   "source": [
    "pop_data.columns"
   ]
  },
  {
   "cell_type": "code",
   "execution_count": 68,
   "metadata": {},
   "outputs": [
    {
     "data": {
      "text/plain": [
       "1877"
      ]
     },
     "execution_count": 68,
     "metadata": {},
     "output_type": "execute_result"
    }
   ],
   "source": [
    "pop_data[\"county_name\"].nunique()"
   ]
  },
  {
   "cell_type": "code",
   "execution_count": 69,
   "metadata": {},
   "outputs": [
    {
     "data": {
      "text/plain": [
       "Index(['state_name', 'county_name', 'county_FIPS', 'pop_2000', 'pop_2001',\n",
       "       'pop_2002', 'pop_2003', 'pop_2004', 'pop_2005', 'pop_2006', 'pop_2007',\n",
       "       'pop_2008', 'pop_2009', 'pop_2010', 'pop_2011', 'pop_2012', 'pop_2013',\n",
       "       'pop_2014', 'pop_2015', 'pop_2016', 'pop_2017', 'pop_2018', 'pop_2019'],\n",
       "      dtype='object')"
      ]
     },
     "execution_count": 69,
     "metadata": {},
     "output_type": "execute_result"
    }
   ],
   "source": [
    "county_df.columns"
   ]
  },
  {
   "cell_type": "code",
   "execution_count": 70,
   "metadata": {},
   "outputs": [
    {
     "data": {
      "text/plain": [
       "Index(['state_name', 'state_FIPS', 'pop_2000', 'pop_2001', 'pop_2002',\n",
       "       'pop_2003', 'pop_2004', 'pop_2005', 'pop_2006', 'pop_2007', 'pop_2008',\n",
       "       'pop_2009', 'pop_2010', 'pop_2011', 'pop_2012', 'pop_2013', 'pop_2014',\n",
       "       'pop_2015', 'pop_2016', 'pop_2017', 'pop_2018', 'pop_2019'],\n",
       "      dtype='object')"
      ]
     },
     "execution_count": 70,
     "metadata": {},
     "output_type": "execute_result"
    }
   ],
   "source": [
    "state_df.columns"
   ]
  },
  {
   "cell_type": "code",
   "execution_count": 71,
   "metadata": {},
   "outputs": [
    {
     "data": {
      "text/plain": [
       "state_name       51\n",
       "county_name    1877\n",
       "dtype: int64"
      ]
     },
     "execution_count": 71,
     "metadata": {},
     "output_type": "execute_result"
    }
   ],
   "source": [
    "state_county_df = pop_data[[\"state_name\", \"county_name\"]]\n",
    "#sc = state_county_df.groupby ([\"state_name\",\"county_name\"])\n",
    "state_county_df.nunique()"
   ]
  },
  {
   "cell_type": "code",
   "execution_count": 73,
   "metadata": {},
   "outputs": [
    {
     "name": "stdout",
     "output_type": "stream",
     "text": [
      "{\n",
      "    \"html_attributions\": [],\n",
      "    \"results\": [],\n",
      "    \"status\": \"INVALID_REQUEST\"\n",
      "}\n"
     ]
    }
   ],
   "source": [
    "# Build URL using the Google Maps API\n",
    "base_url = \"https://maps.googleapis.com/maps/api/place/textsearch/json\"\n",
    "\n",
    "#https://maps.googleapis.com/maps/api/place/textsearch/json\"\n",
    "#https://maps.googleapis.com/maps/api/place/nearbysearch/json\"\n",
    "#\"https://maps.googleapis.com/maps/api/place/textsearch/json\"\n",
    "#\"https://maps.googleapis.com/maps/api/geocode/json\"\n",
    "\n",
    "target_search = \"Landfill\"\n",
    "target_state = \"California\"\n",
    "\n",
    "params = {\n",
    "    \"keyword\": target_search,\n",
    "    \"location\": target_state,\n",
    "    \"key\": gkey\n",
    "}\n",
    "\n",
    "# Run request\n",
    "response = requests.get(base_url, params=params)\n",
    "\n",
    "places_data = response.json()\n",
    "\n",
    "# Print the json (pretty printed)\n",
    "print(json.dumps(places_data, indent=4, sort_keys=True))"
   ]
  },
  {
   "cell_type": "code",
   "execution_count": 63,
   "metadata": {},
   "outputs": [],
   "source": [
    "# Customize the size of the figure\n",
    "figure_layout = {\n",
    "    'width': '400px',\n",
    "    'height': '300px',\n",
    "    'border': '1px solid black',\n",
    "    'padding': '1px',\n",
    "    'margin': '0 auto 0 auto'\n",
    "}\n",
    "fig = gmaps.figure(layout=figure_layout)"
   ]
  },
  {
   "cell_type": "code",
   "execution_count": 58,
   "metadata": {},
   "outputs": [
    {
     "ename": "ValueError",
     "evalue": "not enough values to unpack (expected 2, got 1)",
     "output_type": "error",
     "traceback": [
      "\u001b[0;31m---------------------------------------------------------------------------\u001b[0m",
      "\u001b[0;31mAttributeError\u001b[0m                            Traceback (most recent call last)",
      "\u001b[0;32m/opt/anaconda3/lib/python3.8/site-packages/gmaps/locations.py\u001b[0m in \u001b[0;36mlocations_to_list\u001b[0;34m(locations)\u001b[0m\n\u001b[1;32m     10\u001b[0m     \u001b[0;32mtry\u001b[0m\u001b[0;34m:\u001b[0m\u001b[0;34m\u001b[0m\u001b[0;34m\u001b[0m\u001b[0m\n\u001b[0;32m---> 11\u001b[0;31m         \u001b[0mlocation_tuples\u001b[0m \u001b[0;34m=\u001b[0m \u001b[0mlocations\u001b[0m\u001b[0;34m.\u001b[0m\u001b[0mitertuples\u001b[0m\u001b[0;34m(\u001b[0m\u001b[0;34m)\u001b[0m  \u001b[0;31m# locations is a dataframe\u001b[0m\u001b[0;34m\u001b[0m\u001b[0;34m\u001b[0m\u001b[0m\n\u001b[0m\u001b[1;32m     12\u001b[0m         locations_as_list = [\n",
      "\u001b[0;31mAttributeError\u001b[0m: 'str' object has no attribute 'itertuples'",
      "\nDuring handling of the above exception, another exception occurred:\n",
      "\u001b[0;31mValueError\u001b[0m                                Traceback (most recent call last)",
      "\u001b[0;32m<ipython-input-58-98b84d160c61>\u001b[0m in \u001b[0;36m<module>\u001b[0;34m\u001b[0m\n\u001b[1;32m      1\u001b[0m \u001b[0;31m# Assign the marker layer to a variable\u001b[0m\u001b[0;34m\u001b[0m\u001b[0;34m\u001b[0m\u001b[0;34m\u001b[0m\u001b[0m\n\u001b[0;32m----> 2\u001b[0;31m \u001b[0mmarkers\u001b[0m \u001b[0;34m=\u001b[0m \u001b[0mgmaps\u001b[0m\u001b[0;34m.\u001b[0m\u001b[0mmarker_layer\u001b[0m\u001b[0;34m(\u001b[0m\u001b[0;34m\"Landfill\"\u001b[0m\u001b[0;34m)\u001b[0m\u001b[0;34m\u001b[0m\u001b[0;34m\u001b[0m\u001b[0m\n\u001b[0m\u001b[1;32m      3\u001b[0m \u001b[0;31m# Add the layer to the map\u001b[0m\u001b[0;34m\u001b[0m\u001b[0;34m\u001b[0m\u001b[0;34m\u001b[0m\u001b[0m\n\u001b[1;32m      4\u001b[0m \u001b[0mfig\u001b[0m\u001b[0;34m.\u001b[0m\u001b[0madd_layer\u001b[0m\u001b[0;34m(\u001b[0m\u001b[0mmarkers\u001b[0m\u001b[0;34m)\u001b[0m\u001b[0;34m\u001b[0m\u001b[0;34m\u001b[0m\u001b[0m\n\u001b[1;32m      5\u001b[0m \u001b[0mfig\u001b[0m\u001b[0;34m\u001b[0m\u001b[0;34m\u001b[0m\u001b[0m\n",
      "\u001b[0;32m/opt/anaconda3/lib/python3.8/site-packages/gmaps/marker.py\u001b[0m in \u001b[0;36mmarker_layer\u001b[0;34m(locations, hover_text, label, info_box_content, display_info_box)\u001b[0m\n\u001b[1;32m    551\u001b[0m         \u001b[0mA\u001b[0m \u001b[0;34m:\u001b[0m\u001b[0;32mclass\u001b[0m\u001b[0;34m:\u001b[0m\u001b[0;31m`\u001b[0m\u001b[0mgmaps\u001b[0m\u001b[0;34m.\u001b[0m\u001b[0mMarkers\u001b[0m\u001b[0;31m`\u001b[0m \u001b[0minstance\u001b[0m\u001b[0;34m.\u001b[0m\u001b[0;34m\u001b[0m\u001b[0;34m\u001b[0m\u001b[0m\n\u001b[1;32m    552\u001b[0m     \"\"\"\n\u001b[0;32m--> 553\u001b[0;31m     marker_options = _marker_layer_options(\n\u001b[0m\u001b[1;32m    554\u001b[0m         locations, hover_text, label, info_box_content, display_info_box)\n\u001b[1;32m    555\u001b[0m     \u001b[0mmarkers\u001b[0m \u001b[0;34m=\u001b[0m \u001b[0;34m[\u001b[0m\u001b[0mMarker\u001b[0m\u001b[0;34m(\u001b[0m\u001b[0;34m**\u001b[0m\u001b[0moption\u001b[0m\u001b[0;34m)\u001b[0m \u001b[0;32mfor\u001b[0m \u001b[0moption\u001b[0m \u001b[0;32min\u001b[0m \u001b[0mmarker_options\u001b[0m\u001b[0;34m]\u001b[0m\u001b[0;34m\u001b[0m\u001b[0;34m\u001b[0m\u001b[0m\n",
      "\u001b[0;32m/opt/anaconda3/lib/python3.8/site-packages/gmaps/marker.py\u001b[0m in \u001b[0;36m_marker_layer_options\u001b[0;34m(locations, hover_text, label, info_box_content, display_info_box)\u001b[0m\n\u001b[1;32m    313\u001b[0m \u001b[0;34m\u001b[0m\u001b[0m\n\u001b[1;32m    314\u001b[0m     marker_options = {\n\u001b[0;32m--> 315\u001b[0;31m         \u001b[0;34m'location'\u001b[0m\u001b[0;34m:\u001b[0m \u001b[0mlocations_to_list\u001b[0m\u001b[0;34m(\u001b[0m\u001b[0mlocations\u001b[0m\u001b[0;34m)\u001b[0m\u001b[0;34m,\u001b[0m\u001b[0;34m\u001b[0m\u001b[0;34m\u001b[0m\u001b[0m\n\u001b[0m\u001b[1;32m    316\u001b[0m         \u001b[0;34m'hover_text'\u001b[0m\u001b[0;34m:\u001b[0m \u001b[0mhover_text\u001b[0m\u001b[0;34m,\u001b[0m\u001b[0;34m\u001b[0m\u001b[0;34m\u001b[0m\u001b[0m\n\u001b[1;32m    317\u001b[0m         \u001b[0;34m'label'\u001b[0m\u001b[0;34m:\u001b[0m \u001b[0mlabel\u001b[0m\u001b[0;34m\u001b[0m\u001b[0;34m\u001b[0m\u001b[0m\n",
      "\u001b[0;32m/opt/anaconda3/lib/python3.8/site-packages/gmaps/locations.py\u001b[0m in \u001b[0;36mlocations_to_list\u001b[0;34m(locations)\u001b[0m\n\u001b[1;32m     15\u001b[0m         ]\n\u001b[1;32m     16\u001b[0m     \u001b[0;32mexcept\u001b[0m \u001b[0mAttributeError\u001b[0m\u001b[0;34m:\u001b[0m\u001b[0;34m\u001b[0m\u001b[0;34m\u001b[0m\u001b[0m\n\u001b[0;32m---> 17\u001b[0;31m         locations_as_list = [\n\u001b[0m\u001b[1;32m     18\u001b[0m             \u001b[0;34m(\u001b[0m\u001b[0mlatitude\u001b[0m\u001b[0;34m,\u001b[0m \u001b[0mlongitude\u001b[0m\u001b[0;34m)\u001b[0m \u001b[0;32mfor\u001b[0m \u001b[0;34m(\u001b[0m\u001b[0mlatitude\u001b[0m\u001b[0;34m,\u001b[0m \u001b[0mlongitude\u001b[0m\u001b[0;34m)\u001b[0m\u001b[0;34m\u001b[0m\u001b[0;34m\u001b[0m\u001b[0m\n\u001b[1;32m     19\u001b[0m             \u001b[0;32min\u001b[0m \u001b[0mlocations\u001b[0m\u001b[0;34m\u001b[0m\u001b[0;34m\u001b[0m\u001b[0m\n",
      "\u001b[0;32m/opt/anaconda3/lib/python3.8/site-packages/gmaps/locations.py\u001b[0m in \u001b[0;36m<listcomp>\u001b[0;34m(.0)\u001b[0m\n\u001b[1;32m     16\u001b[0m     \u001b[0;32mexcept\u001b[0m \u001b[0mAttributeError\u001b[0m\u001b[0;34m:\u001b[0m\u001b[0;34m\u001b[0m\u001b[0;34m\u001b[0m\u001b[0m\n\u001b[1;32m     17\u001b[0m         locations_as_list = [\n\u001b[0;32m---> 18\u001b[0;31m             \u001b[0;34m(\u001b[0m\u001b[0mlatitude\u001b[0m\u001b[0;34m,\u001b[0m \u001b[0mlongitude\u001b[0m\u001b[0;34m)\u001b[0m \u001b[0;32mfor\u001b[0m \u001b[0;34m(\u001b[0m\u001b[0mlatitude\u001b[0m\u001b[0;34m,\u001b[0m \u001b[0mlongitude\u001b[0m\u001b[0;34m)\u001b[0m\u001b[0;34m\u001b[0m\u001b[0;34m\u001b[0m\u001b[0m\n\u001b[0m\u001b[1;32m     19\u001b[0m             \u001b[0;32min\u001b[0m \u001b[0mlocations\u001b[0m\u001b[0;34m\u001b[0m\u001b[0;34m\u001b[0m\u001b[0m\n\u001b[1;32m     20\u001b[0m         ]\n",
      "\u001b[0;31mValueError\u001b[0m: not enough values to unpack (expected 2, got 1)"
     ]
    }
   ],
   "source": [
    "# Assign the marker layer to a variable\n",
    "markers = gmaps.marker_layer(\"Landfill\")\n",
    "# Add the layer to the map\n",
    "fig.add_layer(markers)\n",
    "fig"
   ]
  },
  {
   "cell_type": "code",
   "execution_count": null,
   "metadata": {},
   "outputs": [],
   "source": [
    "# Create a map \n",
    "marker_locations = census_data[['Latitude', 'Longitude']]\n",
    "\n",
    "# Create a marker_layer using the poverty list to fill the info box\n",
    "fig = gmaps.figure()\n",
    "markers = gmaps.marker_layer(marker_locations,\n",
    "    info_box_content=[f\"Poverty Rate: {rate}\" for rate in poverty_rate])\n",
    "fig.add_layer(markers)\n",
    "fig"
   ]
  },
  {
   "cell_type": "code",
   "execution_count": null,
   "metadata": {},
   "outputs": [],
   "source": [
    "In [ ]:\n",
    "# load csv\n",
    "# Combime files\n",
    "# delete unused columns\n",
    "# identify state, county\n",
    "# Merge landfill data, group by state and county\n",
    "# Identify the highest landfill states\n",
    "# merge cancer data, overlay on state and conty data\n",
    "# create a 100 miles radius based on address of landfill\n",
    "# find similar population and landfill dataa( similar to weather or gmaps homework assignment?)\n",
    "# If silimair popolations with landfills have similar cancer rates, this may prove a higher risk\n",
    "# Can we use gmaps to rank the landfills with the highest cancer radius?"
   ]
  }
 ],
 "metadata": {
  "kernelspec": {
   "display_name": "Python 3",
   "language": "python",
   "name": "python3"
  },
  "language_info": {
   "codemirror_mode": {
    "name": "ipython",
    "version": 3
   },
   "file_extension": ".py",
   "mimetype": "text/x-python",
   "name": "python",
   "nbconvert_exporter": "python",
   "pygments_lexer": "ipython3",
   "version": "3.8.5"
  }
 },
 "nbformat": 4,
 "nbformat_minor": 4
}
