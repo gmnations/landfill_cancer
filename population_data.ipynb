{
 "cells": [
  {
   "cell_type": "code",
   "execution_count": 511,
   "metadata": {},
   "outputs": [],
   "source": [
    "import pandas as pd\n",
    "import numpy as np\n",
    "import csv\n",
    "import gmaps\n",
    "import requests\n",
    "import json\n",
    "import gmaps.datasets\n",
    "\n",
    "from config import gkey\n",
    "gmaps.configure(api_key=gkey)"
   ]
  },
  {
   "cell_type": "code",
   "execution_count": 512,
   "metadata": {},
   "outputs": [
    {
     "name": "stdout",
     "output_type": "stream",
     "text": [
      "     state_name        county_name  county_FIPS  pop_2000_x  pop_2001_x  \\\n",
      "0       Alabama     Autauga County         1001       43872       44434   \n",
      "1       Alabama     Baldwin County         1003      141358      144988   \n",
      "2       Alabama     Barbour County         1005       29035       29223   \n",
      "3       Alabama        Bibb County         1007       19936       20942   \n",
      "4       Alabama      Blount County         1009       51181       51999   \n",
      "...         ...                ...          ...         ...         ...   \n",
      "3138    Wyoming  Sweetwater County        56037       37484       36566   \n",
      "3139    Wyoming       Teton County        56039       18367       18594   \n",
      "3140    Wyoming       Uinta County        56041       19662       19406   \n",
      "3141    Wyoming    Washakie County        56043        8257        8023   \n",
      "3142    Wyoming      Weston County        56045        6635        6472   \n",
      "\n",
      "      pop_2002_x  pop_2003_x  pop_2004_x  pop_2005_x  pop_2006_x  ...  \\\n",
      "0          45157       45762       46933       47870       49105  ...   \n",
      "1         148141      151707      156573      162564      168516  ...   \n",
      "2          29289       29480       29458       29452       29556  ...   \n",
      "3          20983       21037       21208       21375       21285  ...   \n",
      "4          52775       53726       54469       55035       55978  ...   \n",
      "...          ...         ...         ...         ...         ...  ...   \n",
      "3138       36831       36559       36854       37266       37948  ...   \n",
      "3139       18727       18890       19238       19343       19666  ...   \n",
      "3140       19567       19440       19419       19431       19631  ...   \n",
      "3141        7890        7822        7754        7763        7671  ...   \n",
      "3142        6538        6540        6553        6475        6568  ...   \n",
      "\n",
      "      pop_2010_y  pop_2011_y  pop_2012_y  pop_2013_y  pop_2014_y  pop_2015_y  \\\n",
      "0        4785448     4798834     4815564     4830460     4842481     4853160   \n",
      "1        4785448     4798834     4815564     4830460     4842481     4853160   \n",
      "2        4785448     4798834     4815564     4830460     4842481     4853160   \n",
      "3        4785448     4798834     4815564     4830460     4842481     4853160   \n",
      "4        4785448     4798834     4815564     4830460     4842481     4853160   \n",
      "...          ...         ...         ...         ...         ...         ...   \n",
      "3138      564483      567224      576270      582123      582548      585668   \n",
      "3139      564483      567224      576270      582123      582548      585668   \n",
      "3140      564483      567224      576270      582123      582548      585668   \n",
      "3141      564483      567224      576270      582123      582548      585668   \n",
      "3142      564483      567224      576270      582123      582548      585668   \n",
      "\n",
      "      pop_2016_y  pop_2017_y  pop_2018_y  pop_2019_y  \n",
      "0        4864745     4875120     4887871     4903185  \n",
      "1        4864745     4875120     4887871     4903185  \n",
      "2        4864745     4875120     4887871     4903185  \n",
      "3        4864745     4875120     4887871     4903185  \n",
      "4        4864745     4875120     4887871     4903185  \n",
      "...          ...         ...         ...         ...  \n",
      "3138      584290      578934      577737      578759  \n",
      "3139      584290      578934      577737      578759  \n",
      "3140      584290      578934      577737      578759  \n",
      "3141      584290      578934      577737      578759  \n",
      "3142      584290      578934      577737      578759  \n",
      "\n",
      "[3143 rows x 44 columns]\n"
     ]
    }
   ],
   "source": [
    "# Import the population.csv file as a DataFrame\n",
    "state_df = pd.read_csv(\"resources/state_populations_2000_to_2019.csv\")\n",
    "county_df = pd.read_csv(\"resources/county_populations_2000_to_2019.csv\")\n",
    "\n",
    "\n",
    "pop_data = pd.merge(county_df,state_df,\n",
    "                     on=\"state_name\",\n",
    "                     how=\"left\")\n",
    "# displaying result\n",
    "print(pop_data)"
   ]
  },
  {
   "cell_type": "code",
   "execution_count": 513,
   "metadata": {},
   "outputs": [
    {
     "data": {
      "text/plain": [
       "0    Autauga County\n",
       "1    Baldwin County\n",
       "2    Barbour County\n",
       "3       Bibb County\n",
       "4     Blount County\n",
       "Name: county_name, dtype: object"
      ]
     },
     "execution_count": 513,
     "metadata": {},
     "output_type": "execute_result"
    }
   ],
   "source": [
    "pop_county = pop_data[\"county_name\"]\n",
    "pop_county.head()"
   ]
  },
  {
   "cell_type": "code",
   "execution_count": 514,
   "metadata": {},
   "outputs": [
    {
     "data": {
      "text/plain": [
       "Index(['state_name', 'state_FIPS', 'pop_2000', 'pop_2001', 'pop_2002',\n",
       "       'pop_2003', 'pop_2004', 'pop_2005', 'pop_2006', 'pop_2007', 'pop_2008',\n",
       "       'pop_2009', 'pop_2010', 'pop_2011', 'pop_2012', 'pop_2013', 'pop_2014',\n",
       "       'pop_2015', 'pop_2016', 'pop_2017', 'pop_2018', 'pop_2019'],\n",
       "      dtype='object')"
      ]
     },
     "execution_count": 514,
     "metadata": {},
     "output_type": "execute_result"
    }
   ],
   "source": [
    "state_df.columns"
   ]
  },
  {
   "cell_type": "code",
   "execution_count": 515,
   "metadata": {},
   "outputs": [
    {
     "data": {
      "text/plain": [
       "state_name       51\n",
       "county_name    1877\n",
       "dtype: int64"
      ]
     },
     "execution_count": 515,
     "metadata": {},
     "output_type": "execute_result"
    }
   ],
   "source": [
    "state_county_df = pop_data[[\"state_name\", \"county_name\"]]\n",
    "#sc = state_county_df.groupby ([\"state_name\",\"county_name\"])\n",
    "state_county_df.nunique()"
   ]
  },
  {
   "cell_type": "code",
   "execution_count": 516,
   "metadata": {},
   "outputs": [
    {
     "data": {
      "text/html": [
       "<div>\n",
       "<style scoped>\n",
       "    .dataframe tbody tr th:only-of-type {\n",
       "        vertical-align: middle;\n",
       "    }\n",
       "\n",
       "    .dataframe tbody tr th {\n",
       "        vertical-align: top;\n",
       "    }\n",
       "\n",
       "    .dataframe thead th {\n",
       "        text-align: right;\n",
       "    }\n",
       "</style>\n",
       "<table border=\"1\" class=\"dataframe\">\n",
       "  <thead>\n",
       "    <tr style=\"text-align: right;\">\n",
       "      <th></th>\n",
       "      <th>State</th>\n",
       "      <th>Landfill Name</th>\n",
       "      <th>Current Landfill Status</th>\n",
       "      <th>Latitude</th>\n",
       "      <th>Longitude</th>\n",
       "    </tr>\n",
       "  </thead>\n",
       "  <tbody>\n",
       "    <tr>\n",
       "      <th>0</th>\n",
       "      <td>AK</td>\n",
       "      <td>Anchorage Regional Landfill</td>\n",
       "      <td>Open</td>\n",
       "      <td>61.293281</td>\n",
       "      <td>-149.602138</td>\n",
       "    </tr>\n",
       "    <tr>\n",
       "      <th>1</th>\n",
       "      <td>AK</td>\n",
       "      <td>Capitol Disposal Landfill</td>\n",
       "      <td>Open</td>\n",
       "      <td>58.352800</td>\n",
       "      <td>-134.494700</td>\n",
       "    </tr>\n",
       "    <tr>\n",
       "      <th>2</th>\n",
       "      <td>AK</td>\n",
       "      <td>Central Peninsula Landfill (CPL)</td>\n",
       "      <td>Open</td>\n",
       "      <td>60.447140</td>\n",
       "      <td>-151.103690</td>\n",
       "    </tr>\n",
       "    <tr>\n",
       "      <th>3</th>\n",
       "      <td>AK</td>\n",
       "      <td>Palmer Central Landfill</td>\n",
       "      <td>Open</td>\n",
       "      <td>61.590000</td>\n",
       "      <td>-149.210000</td>\n",
       "    </tr>\n",
       "    <tr>\n",
       "      <th>4</th>\n",
       "      <td>AK</td>\n",
       "      <td>South Cushman Landfill</td>\n",
       "      <td>Open</td>\n",
       "      <td>64.804760</td>\n",
       "      <td>-147.700850</td>\n",
       "    </tr>\n",
       "  </tbody>\n",
       "</table>\n",
       "</div>"
      ],
      "text/plain": [
       "  State                     Landfill Name Current Landfill Status   Latitude  \\\n",
       "0    AK       Anchorage Regional Landfill                    Open  61.293281   \n",
       "1    AK         Capitol Disposal Landfill                    Open  58.352800   \n",
       "2    AK  Central Peninsula Landfill (CPL)                    Open  60.447140   \n",
       "3    AK           Palmer Central Landfill                    Open  61.590000   \n",
       "4    AK            South Cushman Landfill                    Open  64.804760   \n",
       "\n",
       "    Longitude  \n",
       "0 -149.602138  \n",
       "1 -134.494700  \n",
       "2 -151.103690  \n",
       "3 -149.210000  \n",
       "4 -147.700850  "
      ]
     },
     "execution_count": 516,
     "metadata": {},
     "output_type": "execute_result"
    }
   ],
   "source": [
    "landfill_df = pd.read_csv(\"resources/openlandfills.csv\")\n",
    "landfill_df.dropna(inplace = True)\n",
    "landfill_df.head()"
   ]
  },
  {
   "cell_type": "code",
   "execution_count": 517,
   "metadata": {},
   "outputs": [],
   "source": [
    "# base_url = \"https://maps.googleapis.com/maps/api/place/textsearch/json\"\n",
    "# response = requests.get(base_url, params)"
   ]
  },
  {
   "cell_type": "code",
   "execution_count": 518,
   "metadata": {},
   "outputs": [],
   "source": [
    "# Store latitude and longitude in locations\n",
    "locations = landfill_df[[\"Latitude\", \"Longitude\"]]"
   ]
  },
  {
   "cell_type": "code",
   "execution_count": 519,
   "metadata": {},
   "outputs": [
    {
     "data": {
      "application/vnd.jupyter.widget-view+json": {
       "model_id": "9ece663b70f14edaae4be8490c6f7e1f",
       "version_major": 2,
       "version_minor": 0
      },
      "text/plain": [
       "Figure(layout=FigureLayout(height='420px'))"
      ]
     },
     "metadata": {},
     "output_type": "display_data"
    }
   ],
   "source": [
    "# Plot Heatmap\n",
    "fig = gmaps.figure()\n",
    "\n",
    "# Create heat layer\n",
    "heat_layer = gmaps.heatmap_layer(locations, \n",
    "                                 dissipating=False, max_intensity=8,\n",
    "                                 point_radius=1)\n",
    "\n",
    "\n",
    "# Add layer\n",
    "fig.add_layer(heat_layer)\n",
    "\n",
    "# Display figure\n",
    "fig"
   ]
  },
  {
   "cell_type": "code",
   "execution_count": 520,
   "metadata": {},
   "outputs": [
    {
     "data": {
      "text/html": [
       "<div>\n",
       "<style scoped>\n",
       "    .dataframe tbody tr th:only-of-type {\n",
       "        vertical-align: middle;\n",
       "    }\n",
       "\n",
       "    .dataframe tbody tr th {\n",
       "        vertical-align: top;\n",
       "    }\n",
       "\n",
       "    .dataframe thead th {\n",
       "        text-align: right;\n",
       "    }\n",
       "</style>\n",
       "<table border=\"1\" class=\"dataframe\">\n",
       "  <thead>\n",
       "    <tr style=\"text-align: right;\">\n",
       "      <th></th>\n",
       "      <th>Unnamed: 0</th>\n",
       "      <th>County</th>\n",
       "      <th>State_x</th>\n",
       "      <th>State_y</th>\n",
       "      <th>FIPS</th>\n",
       "      <th>Age-Adjusted Incidence Rate([rate note]) - cases per 100,000</th>\n",
       "      <th>Average Annual Count</th>\n",
       "      <th>Recent Trend</th>\n",
       "    </tr>\n",
       "  </thead>\n",
       "  <tbody>\n",
       "    <tr>\n",
       "      <th>0</th>\n",
       "      <td>0</td>\n",
       "      <td>Union County</td>\n",
       "      <td>Florida</td>\n",
       "      <td>Union County, Florida</td>\n",
       "      <td>12125</td>\n",
       "      <td>1143.5</td>\n",
       "      <td>213</td>\n",
       "      <td>stable</td>\n",
       "    </tr>\n",
       "    <tr>\n",
       "      <th>1</th>\n",
       "      <td>1</td>\n",
       "      <td>Logan County</td>\n",
       "      <td>Nebraska</td>\n",
       "      <td>Logan County, Nebraska</td>\n",
       "      <td>31113</td>\n",
       "      <td>739.4</td>\n",
       "      <td>7</td>\n",
       "      <td>*</td>\n",
       "    </tr>\n",
       "    <tr>\n",
       "      <th>2</th>\n",
       "      <td>2</td>\n",
       "      <td>Greer County</td>\n",
       "      <td>Oklahoma</td>\n",
       "      <td>Greer County, Oklahoma</td>\n",
       "      <td>40055</td>\n",
       "      <td>710.4</td>\n",
       "      <td>52</td>\n",
       "      <td>rising</td>\n",
       "    </tr>\n",
       "    <tr>\n",
       "      <th>3</th>\n",
       "      <td>3</td>\n",
       "      <td>Powell County</td>\n",
       "      <td>Kentucky</td>\n",
       "      <td>Powell County, Kentucky</td>\n",
       "      <td>21197</td>\n",
       "      <td>648.2</td>\n",
       "      <td>93</td>\n",
       "      <td>stable</td>\n",
       "    </tr>\n",
       "    <tr>\n",
       "      <th>4</th>\n",
       "      <td>4</td>\n",
       "      <td>Sherman County</td>\n",
       "      <td>Nebraska</td>\n",
       "      <td>Sherman County, Nebraska</td>\n",
       "      <td>31163</td>\n",
       "      <td>629.5</td>\n",
       "      <td>28</td>\n",
       "      <td>stable</td>\n",
       "    </tr>\n",
       "  </tbody>\n",
       "</table>\n",
       "</div>"
      ],
      "text/plain": [
       "   Unnamed: 0          County    State_x                   State_y   FIPS  \\\n",
       "0           0    Union County    Florida     Union County, Florida  12125   \n",
       "1           1    Logan County   Nebraska    Logan County, Nebraska  31113   \n",
       "2           2    Greer County   Oklahoma    Greer County, Oklahoma  40055   \n",
       "3           3   Powell County   Kentucky   Powell County, Kentucky  21197   \n",
       "4           4  Sherman County   Nebraska  Sherman County, Nebraska  31163   \n",
       "\n",
       "   Age-Adjusted Incidence Rate([rate note]) - cases per 100,000  \\\n",
       "0                                             1143.5              \n",
       "1                                              739.4              \n",
       "2                                              710.4              \n",
       "3                                              648.2              \n",
       "4                                              629.5              \n",
       "\n",
       "  Average Annual Count Recent Trend  \n",
       "0                  213       stable  \n",
       "1                    7            *  \n",
       "2                   52       rising  \n",
       "3                   93       stable  \n",
       "4                   28       stable  "
      ]
     },
     "execution_count": 520,
     "metadata": {},
     "output_type": "execute_result"
    }
   ],
   "source": [
    "county_cancer_df = pd.read_csv(\"resources/eEdited_incd.csv\")\n",
    "county_cancer_df.dropna(inplace = True)\n",
    "county_cancer_df.head()"
   ]
  },
  {
   "cell_type": "code",
   "execution_count": 522,
   "metadata": {},
   "outputs": [],
   "source": [
    "# county_clean_df['Cases'] = county_clean_df['Cases'].str.replace(\"#\", \"\")\n",
    "# county_clean_df = county_cancer_df.rename(columns={\"Age-Adjusted Incidence Rate([rate note]) - cases per 100,000\": \"Cases\", \"State_x\": \"State\"})"
   ]
  },
  {
   "cell_type": "code",
   "execution_count": null,
   "metadata": {},
   "outputs": [],
   "source": [
    "county_clean_df.head()"
   ]
  },
  {
   "cell_type": "code",
   "execution_count": 523,
   "metadata": {},
   "outputs": [],
   "source": [
    "# target = \"County\"\n",
    "\n",
    "# params = {\"administrative_area_level_2\": target}   \n",
    "\n",
    "# base_url = \"https://maps.googleapis.com/maps/api/geocode/json\"\n",
    "\n",
    "# response = requests.get(base_url, params=params)\n",
    "\n",
    "# # Convert to JSON\n",
    "# cancer_geo = response.json()\n",
    "\n",
    "# #Extract lat/lng\n",
    "# lat = cancer_geo[\"results\"][0][\"geometry\"][\"target\"][\"lat\"]\n",
    "# lng = cancer_geo[\"results\"][0][\"geometry\"][\"target\"][\"lng\"]\n",
    "\n",
    "# # #Store county and state \n",
    "# # location = county_clean_df[[\"County\",\"State\"]]\n",
    "# # rating = county_clean_df[[\"Cases\"]].astype(float)\n",
    "\n",
    "# print(f\"{target_city}: {lat}, {lng}\")"
   ]
  },
  {
   "cell_type": "code",
   "execution_count": null,
   "metadata": {},
   "outputs": [],
   "source": [
    "# Plot Heatmap\n",
    "fig = gmaps.figure()\n",
    "\n",
    "# Create heat layer\n",
    "cancer_layer = gmaps.heatmap_layer(location, rating,\n",
    "                                 dissipating=False, max_intensity=10,\n",
    "                                 point_radius=1)\n",
    "\n",
    "\n",
    "# Add layer\n",
    "fig.add_layer(cancer_layer)\n",
    "\n",
    "# Display figure\n",
    "fig"
   ]
  },
  {
   "cell_type": "code",
   "execution_count": null,
   "metadata": {},
   "outputs": [],
   "source": [
    "county_longlat = pd.read_csv(\"resources/cities.csv\")\n",
    "county_cancer_.dropna(inplace = True)\n",
    "county_cancer_df.head()"
   ]
  },
  {
   "cell_type": "code",
   "execution_count": null,
   "metadata": {},
   "outputs": [],
   "source": [
    "In [ ]:\n",
    "# load csv\n",
    "# Combime files\n",
    "# delete unused columns\n",
    "# identify state, county\n",
    "# Merge landfill data, group by state and county\n",
    "# Identify the highest landfill states\n",
    "# merge cancer data, overlay on state and conty data\n",
    "# create a 100 miles radius based on address of landfill\n",
    "# find similar population and landfill dataa( similar to weather or gmaps homework assignment?)\n",
    "# If silimair popolations with landfills have similar cancer rates, this may prove a higher risk\n",
    "# Can we use gmaps to rank the landfills with the highest cancer radius?"
   ]
  },
  {
   "cell_type": "code",
   "execution_count": null,
   "metadata": {},
   "outputs": [],
   "source": []
  }
 ],
 "metadata": {
  "kernelspec": {
   "display_name": "Python 3",
   "language": "python",
   "name": "python3"
  },
  "language_info": {
   "codemirror_mode": {
    "name": "ipython",
    "version": 3
   },
   "file_extension": ".py",
   "mimetype": "text/x-python",
   "name": "python",
   "nbconvert_exporter": "python",
   "pygments_lexer": "ipython3",
   "version": "3.8.5"
  }
 },
 "nbformat": 4,
 "nbformat_minor": 4
}
