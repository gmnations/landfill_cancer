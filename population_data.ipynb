{
 "cells": [
  {
   "cell_type": "code",
   "execution_count": 86,
   "metadata": {},
   "outputs": [],
   "source": [
    "import pandas as pd\n",
    "import numpy as np\n",
    "import csv\n",
    "import gmaps\n",
    "import requests\n",
    "import json\n",
    "\n",
    "from config import gkey\n",
    "gmaps.configure(api_key=gkey)"
   ]
  },
  {
   "cell_type": "code",
   "execution_count": 87,
   "metadata": {},
   "outputs": [
    {
     "name": "stdout",
     "output_type": "stream",
     "text": [
      "     state_name        county_name  county_FIPS  pop_2000_x  pop_2001_x  \\\n",
      "0       Alabama     Autauga County         1001       43872       44434   \n",
      "1       Alabama     Baldwin County         1003      141358      144988   \n",
      "2       Alabama     Barbour County         1005       29035       29223   \n",
      "3       Alabama        Bibb County         1007       19936       20942   \n",
      "4       Alabama      Blount County         1009       51181       51999   \n",
      "...         ...                ...          ...         ...         ...   \n",
      "3138    Wyoming  Sweetwater County        56037       37484       36566   \n",
      "3139    Wyoming       Teton County        56039       18367       18594   \n",
      "3140    Wyoming       Uinta County        56041       19662       19406   \n",
      "3141    Wyoming    Washakie County        56043        8257        8023   \n",
      "3142    Wyoming      Weston County        56045        6635        6472   \n",
      "\n",
      "      pop_2002_x  pop_2003_x  pop_2004_x  pop_2005_x  pop_2006_x  ...  \\\n",
      "0          45157       45762       46933       47870       49105  ...   \n",
      "1         148141      151707      156573      162564      168516  ...   \n",
      "2          29289       29480       29458       29452       29556  ...   \n",
      "3          20983       21037       21208       21375       21285  ...   \n",
      "4          52775       53726       54469       55035       55978  ...   \n",
      "...          ...         ...         ...         ...         ...  ...   \n",
      "3138       36831       36559       36854       37266       37948  ...   \n",
      "3139       18727       18890       19238       19343       19666  ...   \n",
      "3140       19567       19440       19419       19431       19631  ...   \n",
      "3141        7890        7822        7754        7763        7671  ...   \n",
      "3142        6538        6540        6553        6475        6568  ...   \n",
      "\n",
      "      pop_2010_y  pop_2011_y  pop_2012_y  pop_2013_y  pop_2014_y  pop_2015_y  \\\n",
      "0        4785448     4798834     4815564     4830460     4842481     4853160   \n",
      "1        4785448     4798834     4815564     4830460     4842481     4853160   \n",
      "2        4785448     4798834     4815564     4830460     4842481     4853160   \n",
      "3        4785448     4798834     4815564     4830460     4842481     4853160   \n",
      "4        4785448     4798834     4815564     4830460     4842481     4853160   \n",
      "...          ...         ...         ...         ...         ...         ...   \n",
      "3138      564483      567224      576270      582123      582548      585668   \n",
      "3139      564483      567224      576270      582123      582548      585668   \n",
      "3140      564483      567224      576270      582123      582548      585668   \n",
      "3141      564483      567224      576270      582123      582548      585668   \n",
      "3142      564483      567224      576270      582123      582548      585668   \n",
      "\n",
      "      pop_2016_y  pop_2017_y  pop_2018_y  pop_2019_y  \n",
      "0        4864745     4875120     4887871     4903185  \n",
      "1        4864745     4875120     4887871     4903185  \n",
      "2        4864745     4875120     4887871     4903185  \n",
      "3        4864745     4875120     4887871     4903185  \n",
      "4        4864745     4875120     4887871     4903185  \n",
      "...          ...         ...         ...         ...  \n",
      "3138      584290      578934      577737      578759  \n",
      "3139      584290      578934      577737      578759  \n",
      "3140      584290      578934      577737      578759  \n",
      "3141      584290      578934      577737      578759  \n",
      "3142      584290      578934      577737      578759  \n",
      "\n",
      "[3143 rows x 44 columns]\n"
     ]
    }
   ],
   "source": [
    "# Import the population.csv file as a DataFrame\n",
    "state_df = pd.read_csv(\"resources/state_populations_2000_to_2019.csv\")\n",
    "county_df = pd.read_csv(\"resources/county_populations_2000_to_2019.csv\")\n",
    "\n",
    "\n",
    "pop_data = pd.merge(county_df,state_df,\n",
    "                     on=\"state_name\",\n",
    "                     how=\"left\")\n",
    "# displaying result\n",
    "print(pop_data)"
   ]
  },
  {
   "cell_type": "code",
   "execution_count": 88,
   "metadata": {},
   "outputs": [
    {
     "data": {
      "text/plain": [
       "Index(['state_name', 'county_name', 'county_FIPS', 'pop_2000_x', 'pop_2001_x',\n",
       "       'pop_2002_x', 'pop_2003_x', 'pop_2004_x', 'pop_2005_x', 'pop_2006_x',\n",
       "       'pop_2007_x', 'pop_2008_x', 'pop_2009_x', 'pop_2010_x', 'pop_2011_x',\n",
       "       'pop_2012_x', 'pop_2013_x', 'pop_2014_x', 'pop_2015_x', 'pop_2016_x',\n",
       "       'pop_2017_x', 'pop_2018_x', 'pop_2019_x', 'state_FIPS', 'pop_2000_y',\n",
       "       'pop_2001_y', 'pop_2002_y', 'pop_2003_y', 'pop_2004_y', 'pop_2005_y',\n",
       "       'pop_2006_y', 'pop_2007_y', 'pop_2008_y', 'pop_2009_y', 'pop_2010_y',\n",
       "       'pop_2011_y', 'pop_2012_y', 'pop_2013_y', 'pop_2014_y', 'pop_2015_y',\n",
       "       'pop_2016_y', 'pop_2017_y', 'pop_2018_y', 'pop_2019_y'],\n",
       "      dtype='object')"
      ]
     },
     "execution_count": 88,
     "metadata": {},
     "output_type": "execute_result"
    }
   ],
   "source": [
    "pop_data.columns"
   ]
  },
  {
   "cell_type": "code",
   "execution_count": 89,
   "metadata": {},
   "outputs": [
    {
     "data": {
      "text/plain": [
       "1877"
      ]
     },
     "execution_count": 89,
     "metadata": {},
     "output_type": "execute_result"
    }
   ],
   "source": [
    "pop_data[\"county_name\"].nunique()"
   ]
  },
  {
   "cell_type": "code",
   "execution_count": 90,
   "metadata": {},
   "outputs": [
    {
     "data": {
      "text/plain": [
       "Index(['state_name', 'county_name', 'county_FIPS', 'pop_2000', 'pop_2001',\n",
       "       'pop_2002', 'pop_2003', 'pop_2004', 'pop_2005', 'pop_2006', 'pop_2007',\n",
       "       'pop_2008', 'pop_2009', 'pop_2010', 'pop_2011', 'pop_2012', 'pop_2013',\n",
       "       'pop_2014', 'pop_2015', 'pop_2016', 'pop_2017', 'pop_2018', 'pop_2019'],\n",
       "      dtype='object')"
      ]
     },
     "execution_count": 90,
     "metadata": {},
     "output_type": "execute_result"
    }
   ],
   "source": [
    "county_df.columns"
   ]
  },
  {
   "cell_type": "code",
   "execution_count": 91,
   "metadata": {},
   "outputs": [
    {
     "data": {
      "text/plain": [
       "Index(['state_name', 'state_FIPS', 'pop_2000', 'pop_2001', 'pop_2002',\n",
       "       'pop_2003', 'pop_2004', 'pop_2005', 'pop_2006', 'pop_2007', 'pop_2008',\n",
       "       'pop_2009', 'pop_2010', 'pop_2011', 'pop_2012', 'pop_2013', 'pop_2014',\n",
       "       'pop_2015', 'pop_2016', 'pop_2017', 'pop_2018', 'pop_2019'],\n",
       "      dtype='object')"
      ]
     },
     "execution_count": 91,
     "metadata": {},
     "output_type": "execute_result"
    }
   ],
   "source": [
    "state_df.columns"
   ]
  },
  {
   "cell_type": "code",
   "execution_count": 92,
   "metadata": {},
   "outputs": [
    {
     "data": {
      "text/plain": [
       "state_name       51\n",
       "county_name    1877\n",
       "dtype: int64"
      ]
     },
     "execution_count": 92,
     "metadata": {},
     "output_type": "execute_result"
    }
   ],
   "source": [
    "state_county_df = pop_data[[\"state_name\", \"county_name\"]]\n",
    "#sc = state_county_df.groupby ([\"state_name\",\"county_name\"])\n",
    "state_county_df.nunique()"
   ]
  },
  {
   "cell_type": "code",
   "execution_count": 93,
   "metadata": {},
   "outputs": [
    {
     "data": {
      "text/html": [
       "<div>\n",
       "<style scoped>\n",
       "    .dataframe tbody tr th:only-of-type {\n",
       "        vertical-align: middle;\n",
       "    }\n",
       "\n",
       "    .dataframe tbody tr th {\n",
       "        vertical-align: top;\n",
       "    }\n",
       "\n",
       "    .dataframe thead th {\n",
       "        text-align: right;\n",
       "    }\n",
       "</style>\n",
       "<table border=\"1\" class=\"dataframe\">\n",
       "  <thead>\n",
       "    <tr style=\"text-align: right;\">\n",
       "      <th></th>\n",
       "      <th>State</th>\n",
       "      <th>Landfill Name</th>\n",
       "      <th>Current Landfill Status</th>\n",
       "      <th>Latitude</th>\n",
       "      <th>Longitude</th>\n",
       "    </tr>\n",
       "  </thead>\n",
       "  <tbody>\n",
       "    <tr>\n",
       "      <th>0</th>\n",
       "      <td>AK</td>\n",
       "      <td>Anchorage Regional Landfill</td>\n",
       "      <td>Open</td>\n",
       "      <td>61.293281</td>\n",
       "      <td>-149.602138</td>\n",
       "    </tr>\n",
       "    <tr>\n",
       "      <th>1</th>\n",
       "      <td>AK</td>\n",
       "      <td>Capitol Disposal Landfill</td>\n",
       "      <td>Open</td>\n",
       "      <td>58.352800</td>\n",
       "      <td>-134.494700</td>\n",
       "    </tr>\n",
       "    <tr>\n",
       "      <th>2</th>\n",
       "      <td>AK</td>\n",
       "      <td>Central Peninsula Landfill (CPL)</td>\n",
       "      <td>Open</td>\n",
       "      <td>60.447140</td>\n",
       "      <td>-151.103690</td>\n",
       "    </tr>\n",
       "    <tr>\n",
       "      <th>3</th>\n",
       "      <td>AK</td>\n",
       "      <td>Palmer Central Landfill</td>\n",
       "      <td>Open</td>\n",
       "      <td>61.590000</td>\n",
       "      <td>-149.210000</td>\n",
       "    </tr>\n",
       "    <tr>\n",
       "      <th>4</th>\n",
       "      <td>AK</td>\n",
       "      <td>South Cushman Landfill</td>\n",
       "      <td>Open</td>\n",
       "      <td>64.804760</td>\n",
       "      <td>-147.700850</td>\n",
       "    </tr>\n",
       "  </tbody>\n",
       "</table>\n",
       "</div>"
      ],
      "text/plain": [
       "  State                     Landfill Name Current Landfill Status   Latitude  \\\n",
       "0    AK       Anchorage Regional Landfill                    Open  61.293281   \n",
       "1    AK         Capitol Disposal Landfill                    Open  58.352800   \n",
       "2    AK  Central Peninsula Landfill (CPL)                    Open  60.447140   \n",
       "3    AK           Palmer Central Landfill                    Open  61.590000   \n",
       "4    AK            South Cushman Landfill                    Open  64.804760   \n",
       "\n",
       "    Longitude  \n",
       "0 -149.602138  \n",
       "1 -134.494700  \n",
       "2 -151.103690  \n",
       "3 -149.210000  \n",
       "4 -147.700850  "
      ]
     },
     "execution_count": 93,
     "metadata": {},
     "output_type": "execute_result"
    }
   ],
   "source": [
    "landfill_df = pd.read_csv(\"resources/openlandfills.csv\")\n",
    "landfill_df.dropna(inplace = True)\n",
    "landfill_df.head()"
   ]
  },
  {
   "cell_type": "code",
   "execution_count": 94,
   "metadata": {},
   "outputs": [],
   "source": [
    "# Store latitude and longitude in locations\n",
    "locations = landfill_df[[\"Latitude\", \"Longitude\"]]"
   ]
  },
  {
   "cell_type": "code",
   "execution_count": 95,
   "metadata": {},
   "outputs": [
    {
     "data": {
      "application/vnd.jupyter.widget-view+json": {
       "model_id": "32618004a08f41c7835dbb01601e8e1f",
       "version_major": 2,
       "version_minor": 0
      },
      "text/plain": [
       "Figure(layout=FigureLayout(height='420px'))"
      ]
     },
     "metadata": {},
     "output_type": "display_data"
    }
   ],
   "source": [
    "# Plot Heatmap\n",
    "fig = gmaps.figure()\n",
    "\n",
    "# Create heat layer\n",
    "heat_layer = gmaps.heatmap_layer(locations, \n",
    "                                 dissipating=False, max_intensity=8,\n",
    "                                 point_radius=1)\n",
    "\n",
    "\n",
    "# Add layer\n",
    "fig.add_layer(heat_layer)\n",
    "\n",
    "# Display figure\n",
    "fig"
   ]
  },
  {
   "cell_type": "code",
   "execution_count": null,
   "metadata": {},
   "outputs": [],
   "source": [
    "In [ ]:\n",
    "# load csv\n",
    "# Combime files\n",
    "# delete unused columns\n",
    "# identify state, county\n",
    "# Merge landfill data, group by state and county\n",
    "# Identify the highest landfill states\n",
    "# merge cancer data, overlay on state and conty data\n",
    "# create a 100 miles radius based on address of landfill\n",
    "# find similar population and landfill dataa( similar to weather or gmaps homework assignment?)\n",
    "# If silimair popolations with landfills have similar cancer rates, this may prove a higher risk\n",
    "# Can we use gmaps to rank the landfills with the highest cancer radius?"
   ]
  }
 ],
 "metadata": {
  "kernelspec": {
   "display_name": "Python 3",
   "language": "python",
   "name": "python3"
  },
  "language_info": {
   "codemirror_mode": {
    "name": "ipython",
    "version": 3
   },
   "file_extension": ".py",
   "mimetype": "text/x-python",
   "name": "python",
   "nbconvert_exporter": "python",
   "pygments_lexer": "ipython3",
   "version": "3.8.5"
  }
 },
 "nbformat": 4,
 "nbformat_minor": 4
}
