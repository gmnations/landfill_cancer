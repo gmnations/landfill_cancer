{
 "cells": [
  {
   "cell_type": "code",
   "execution_count": 12,
   "metadata": {},
   "outputs": [],
   "source": [
    "import pandas as pd\n",
    "import numpy as np\n",
    "import csv\n",
    "\n"
   ]
  },
  {
   "cell_type": "code",
   "execution_count": 30,
   "metadata": {},
   "outputs": [
    {
     "name": "stdout",
     "output_type": "stream",
     "text": [
      "     state_name  state_FIPS  pop_2000_x  pop_2001_x  pop_2002_x  pop_2003_x  \\\n",
      "0       Alabama        1000     4451849     4464034     4472420     4490591   \n",
      "1       Alabama        1000     4451849     4464034     4472420     4490591   \n",
      "2       Alabama        1000     4451849     4464034     4472420     4490591   \n",
      "3       Alabama        1000     4451849     4464034     4472420     4490591   \n",
      "4       Alabama        1000     4451849     4464034     4472420     4490591   \n",
      "...         ...         ...         ...         ...         ...         ...   \n",
      "3138    Wyoming       56000      493958      492982      497069      499189   \n",
      "3139    Wyoming       56000      493958      492982      497069      499189   \n",
      "3140    Wyoming       56000      493958      492982      497069      499189   \n",
      "3141    Wyoming       56000      493958      492982      497069      499189   \n",
      "3142    Wyoming       56000      493958      492982      497069      499189   \n",
      "\n",
      "      pop_2004_x  pop_2005_x  pop_2006_x  pop_2007_x  ...  pop_2010_y  \\\n",
      "0        4512190     4545049     4597688     4637904  ...       54754   \n",
      "1        4512190     4545049     4597688     4637904  ...      183111   \n",
      "2        4512190     4545049     4597688     4637904  ...       27330   \n",
      "3        4512190     4545049     4597688     4637904  ...       22872   \n",
      "4        4512190     4545049     4597688     4637904  ...       57373   \n",
      "...          ...         ...         ...         ...  ...         ...   \n",
      "3138      502988      506242      512841      523414  ...       43574   \n",
      "3139      502988      506242      512841      523414  ...       21297   \n",
      "3140      502988      506242      512841      523414  ...       21089   \n",
      "3141      502988      506242      512841      523414  ...        8530   \n",
      "3142      502988      506242      512841      523414  ...        7199   \n",
      "\n",
      "      pop_2011_y  pop_2012_y  pop_2013_y  pop_2014_y  pop_2015_y  pop_2016_y  \\\n",
      "0          55208       54936       54713       54876       54838       55242   \n",
      "1         186540      190143      194886      199189      202995      207712   \n",
      "2          27350       27174       26944       26758       26294       25819   \n",
      "3          22747       22664       22516       22541       22562       22576   \n",
      "4          57554       57570       57611       57521       57522       57517   \n",
      "...          ...         ...         ...         ...         ...         ...   \n",
      "3138       43981       45005       45162       44957       44754       44275   \n",
      "3139       21414       21625       22318       22777       23016       23161   \n",
      "3140       20893       20994       20953       20827       20770       20691   \n",
      "3141        8448        8408        8414        8275        8280        8168   \n",
      "3142        7142        7077        7137        7138        7197        7213   \n",
      "\n",
      "      pop_2017_y  pop_2018_y  pop_2019_y  \n",
      "0          55443       55601       55869  \n",
      "1         212619      218022      223234  \n",
      "2          25158       24881       24686  \n",
      "3          22555       22400       22394  \n",
      "4          57827       57840       57826  \n",
      "...          ...         ...         ...  \n",
      "3138       43547       43051       42343  \n",
      "3139       23261       23081       23464  \n",
      "3140       20456       20299       20226  \n",
      "3141        8035        7885        7805  \n",
      "3142        6986        6967        6927  \n",
      "\n",
      "[3143 rows x 44 columns]\n"
     ]
    }
   ],
   "source": [
    "# Import the population.csv file as a DataFrame\n",
    "state_df = pd.read_csv(\"resources/state_populations_2000_to_2019.csv\")\n",
    "county_df = pd.read_csv(\"resources/county_populations_2000_to_2019.csv\")\n",
    "\n",
    "pop_data = pd.merge(state_df,county_df,\n",
    "                     on=\"state_name\",\n",
    "                     how=\"left\")\n",
    "# displaying result\n",
    "print(pop_data)"
   ]
  },
  {
   "cell_type": "code",
   "execution_count": null,
   "metadata": {},
   "outputs": [],
   "source": [
    "# load csv\n",
    "# Combime files\n",
    "# delete unused columns\n",
    "# identify state, county\n",
    "# Merge landfill data, group by state and county\n",
    "# Identify the highest landfill states\n",
    "# merge cancer data, overlay on state and conty data\n",
    "# create a 100 miles radius based on address of landfill\n",
    "# find similar population and landfill dataa( similar to weather or gmaps homework assignment?)\n",
    "# If silimair popolations with landfills have similar cancer rates, this may prove a higher risk\n",
    "# Can we use gmaps to rank the landfills with the highest cancer radius?\n"
   ]
  }
 ],
 "metadata": {
  "kernelspec": {
   "display_name": "Python 3",
   "language": "python",
   "name": "python3"
  },
  "language_info": {
   "codemirror_mode": {
    "name": "ipython",
    "version": 3
   },
   "file_extension": ".py",
   "mimetype": "text/x-python",
   "name": "python",
   "nbconvert_exporter": "python",
   "pygments_lexer": "ipython3",
   "version": "3.8.5"
  }
 },
 "nbformat": 4,
 "nbformat_minor": 4
}
